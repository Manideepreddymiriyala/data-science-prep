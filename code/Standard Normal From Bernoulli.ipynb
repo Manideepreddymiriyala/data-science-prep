{
 "cells": [
  {
   "cell_type": "markdown",
   "metadata": {},
   "source": [
    "# Simulating a standard normal distribution\n",
    " \n",
    "We are asked to simulate a normal distribution using a bernoulli distribution. We can achieve this by carrying out the following experiment. First, we simulate a binomial by sampling from the bernoulli $n$ times. For a large number of trials $n$, the normal distribution is roughly equivalent to a binomial. More mathematically, for a large $n$, $\\text{Binomial}(n, p) \\approx \\mathcal{N}(np, np(1-p)$.  To get a more accurate simulation, we can increase the number of trials $n$. This is however computationally expensive. To draw a sample from the normal, we draw a sample from the binomial $x \\sim \\text{Binomial}(n, p)$ and return $y = \\dfrac{x - \\mu}{\\sigma^2}$ where $\\mu$ is the mean of the binomial distribution, which is $n\\cdot p$ and $\\sigma^2$ is the variance of the binomial which is $n \\cdot p \\cdot (1 - p)$.\n"
   ]
  },
  {
   "cell_type": "code",
   "execution_count": 2,
   "metadata": {},
   "outputs": [],
   "source": [
    "from common import bernoulli\n",
    "import matplotlib.pyplot as plt\n",
    "from pylab import rcParams\n",
    "%matplotlib inline\n",
    "rcParams['figure.figsize'] = 15, 10\n",
    "\n",
    "\n",
    "def binomial(trials: int, p: float = 0.5) -> int:\n",
    "    \"\"\"\n",
    "    :param trials: Performs a bernoulli experiment `trials` number of times\n",
    "    :param p: probability of success for each bernoulli\n",
    "    :return: # of successes in `trials`\n",
    "    \"\"\"\n",
    "    return sum([bernoulli(p) for _ in range(trials)])\n",
    "\n",
    "\n",
    "def standard_normal(trials: int = 10000):\n",
    "    p = 0.5  # probability of success of the bernoulli trial.\n",
    "    sample = binomial(trials, p)\n",
    "    mean, variance = trials * p, trials * p * (1 - p)\n",
    "    return (sample - mean) / variance\n"
   ]
  },
  {
   "cell_type": "code",
   "execution_count": 6,
   "metadata": {},
   "outputs": [
    {
     "data": {
      "text/plain": [
       "(array([   35.,   581.,  3945., 16885., 29752., 29167., 15505.,  3609.,\n",
       "          483.,    38.]),\n",
       " array([-0.264 , -0.2108, -0.1576, -0.1044, -0.0512,  0.002 ,  0.0552,\n",
       "         0.1084,  0.1616,  0.2148,  0.268 ]),\n",
       " <a list of 10 Patch objects>)"
      ]
     },
     "execution_count": 6,
     "metadata": {},
     "output_type": "execute_result"
    },
    {
     "data": {
      "image/png": "[encoded data removed]",
      "text/plain": [
       "<Figure size 432x288 with 1 Axes>"
      ]
     },
     "metadata": {
      "needs_background": "light"
     },
     "output_type": "display_data"
    }
   ],
   "source": [
    "n_experiments = 100000\n",
    "samples = [standard_normal(trials=1000) for _ in range(n_experiments)]\n",
    "plt.hist(samples)"
   ]
  },
  {
   "cell_type": "code",
   "execution_count": null,
   "metadata": {},
   "outputs": [],
   "source": []
  }
 ],
 "metadata": {
  "kernelspec": {
   "display_name": "Python 3",
   "language": "python",
   "name": "python3"
  },
  "language_info": {
   "codemirror_mode": {
    "name": "ipython",
    "version": 3
   },
   "file_extension": ".py",
   "mimetype": "text/x-python",
   "name": "python",
   "nbconvert_exporter": "python",
   "pygments_lexer": "ipython3",
   "version": "3.7.4"
  }
 },
 "nbformat": 4,
 "nbformat_minor": 2
}
