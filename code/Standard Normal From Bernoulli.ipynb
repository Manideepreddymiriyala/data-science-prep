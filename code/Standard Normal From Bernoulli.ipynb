{
 "cells": [
  {
   "cell_type": "markdown",
   "metadata": {},
   "source": [
    "# Simulating a standard normal distribution\n",
    "\n",
    "We are asked to simulate a normal distribution using a bernoulli distribution. We can achieve this by carrying out the following experiment. First, we simulate a binomial by sampling from the bernoulli $n$ times. For a large number of trials $n$, the normal distribution is roughly equivalent to a binomial. More mathematically, for a large $n$, $\\text{Binomial}(n, p) \\approx \\mathcal{N}\\big(np, np(1-p)\\big)$.  To get a more accurate simulation, we can increase the number of trials $n$. This is however computationally expensive. Thus, as $n \\to \\infty$, drawing a sample from $\\text{Binomial}(n, p)$ is equivalent to drawing a sample from $\\mathcal{N}\\big(np, np(1-p)\\big)$. Now since we are asked to sample from a standard normal (which is defined as $\\mathcal{N}(0, 1)$), we have to transform a sample $x \\sim \\mathcal{N}\\big(np, np(1-p)\\big)$ to the standard normal. This can be done calculating the $z-$scores. We calculate the $z-$score of $x \\sim \\mathcal{N}\\big(np, np(1-p)\\big)$ which is given by $z_x = \\dfrac{x - np}{\\sqrt{np(1-p)}}$. Now we can use the $z-$score to transform it to a sample from the standard normal $z_x = \\dfrac{x - 0}{1} = z_x.$ \n",
    "\n",
    "Thus, the final procedure is:\n",
    "\n",
    "\n",
    "1. Draw a sample from $x \\sim \\text{Binomial}(n, p) \\approx \\mathcal{N}\\big( np, np(1-p) \\big) $\n",
    "\n",
    "2. Return $\\dfrac{x - np}{\\sqrt{np(1-p)}}$"
   ]
  },
  {
   "cell_type": "code",
   "execution_count": 8,
   "metadata": {},
   "outputs": [],
   "source": [
    "from common import bernoulli\n",
    "import matplotlib.pyplot as plt\n",
    "from pylab import rcParams\n",
    "import math\n",
    "%matplotlib inline\n",
    "rcParams['figure.figsize'] = 15, 10\n",
    "\n",
    "\n",
    "def binomial(n: int, p: float = 0.5) -> int:\n",
    "    \"\"\"\n",
    "    :param n: Performs a bernoulli experiment `n` number of times\n",
    "    :param p: probability of success for each bernoulli\n",
    "    :return: # of successes in `n`\n",
    "    \"\"\"\n",
    "    return sum([bernoulli(p) for _ in range(n)])\n",
    "\n",
    "\n",
    "def standard_normal(n: int = 1000):\n",
    "    p = 0.5  # probability of success of the bernoulli trial.\n",
    "    sample = binomial(n, p)\n",
    "    mean, std_dev = n * p, math.sqrt(n * p * (1 - p))\n",
    "    return (sample - mean) / std_dev\n"
   ]
  },
  {
   "cell_type": "code",
   "execution_count": 9,
   "metadata": {},
   "outputs": [
    {
     "data": {
      "text/plain": [
       "(array([1.800e+01, 1.650e+02, 9.260e+02, 2.358e+03, 2.996e+03, 2.322e+03,\n",
       "        9.640e+02, 2.170e+02, 3.200e+01, 2.000e+00]),\n",
       " array([-3.66824209, -2.858699  , -2.04915592, -1.23961284, -0.43006976,\n",
       "         0.37947332,  1.1890164 ,  1.99855948,  2.80810256,  3.61764564,\n",
       "         4.42718872]),\n",
       " <a list of 10 Patch objects>)"
      ]
     },
     "execution_count": 9,
     "metadata": {},
     "output_type": "execute_result"
    },
    {
     "data": {
      "image/png": "[encoded data removed]",
      "text/plain": [
       "<Figure size 1080x720 with 1 Axes>"
      ]
     },
     "metadata": {
      "needs_background": "light"
     },
     "output_type": "display_data"
    }
   ],
   "source": [
    "num_experiments = 10000\n",
    "samples = [standard_normal() for _ in range(num_experiments)]\n",
    "plt.hist(samples)"
   ]
  },
  {
   "cell_type": "code",
   "execution_count": null,
   "metadata": {},
   "outputs": [],
   "source": []
  }
 ],
 "metadata": {
  "kernelspec": {
   "display_name": "Python 3",
   "language": "python",
   "name": "python3"
  },
  "language_info": {
   "codemirror_mode": {
    "name": "ipython",
    "version": 3
   },
   "file_extension": ".py",
   "mimetype": "text/x-python",
   "name": "python",
   "nbconvert_exporter": "python",
   "pygments_lexer": "ipython3",
   "version": "3.7.4"
  }
 },
 "nbformat": 4,
 "nbformat_minor": 2
}
